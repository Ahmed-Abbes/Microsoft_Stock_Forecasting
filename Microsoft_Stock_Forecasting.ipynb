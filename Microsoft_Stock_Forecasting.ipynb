{
 "cells": [
  {
   "cell_type": "code",
   "execution_count": 1,
   "id": "e9ee7374",
   "metadata": {},
   "outputs": [
    {
     "name": "stderr",
     "output_type": "stream",
     "text": [
      "2022-06-06 02:42:06.587372: W tensorflow/stream_executor/platform/default/dso_loader.cc:64] Could not load dynamic library 'libcudart.so.11.0'; dlerror: libcudart.so.11.0: cannot open shared object file: No such file or directory\n",
      "2022-06-06 02:42:06.587463: I tensorflow/stream_executor/cuda/cudart_stub.cc:29] Ignore above cudart dlerror if you do not have a GPU set up on your machine.\n"
     ]
    }
   ],
   "source": [
    "import datetime\n",
    "import numpy as np\n",
    "import pandas as pd \n",
    "import matplotlib.pyplot as plt \n",
    "from tensorflow.keras import layers\n",
    "from tensorflow.keras.optimizers import Adam\n",
    "from tensorflow.keras.models import Sequential"
   ]
  },
  {
   "cell_type": "code",
   "execution_count": 2,
   "id": "0c6f704e",
   "metadata": {},
   "outputs": [
    {
     "data": {
      "text/html": [
       "<div>\n",
       "<style scoped>\n",
       "    .dataframe tbody tr th:only-of-type {\n",
       "        vertical-align: middle;\n",
       "    }\n",
       "\n",
       "    .dataframe tbody tr th {\n",
       "        vertical-align: top;\n",
       "    }\n",
       "\n",
       "    .dataframe thead th {\n",
       "        text-align: right;\n",
       "    }\n",
       "</style>\n",
       "<table border=\"1\" class=\"dataframe\">\n",
       "  <thead>\n",
       "    <tr style=\"text-align: right;\">\n",
       "      <th></th>\n",
       "      <th>Date</th>\n",
       "      <th>Open</th>\n",
       "      <th>High</th>\n",
       "      <th>Low</th>\n",
       "      <th>Close</th>\n",
       "      <th>Adj Close</th>\n",
       "      <th>Volume</th>\n",
       "    </tr>\n",
       "  </thead>\n",
       "  <tbody>\n",
       "    <tr>\n",
       "      <th>0</th>\n",
       "      <td>1986-03-13</td>\n",
       "      <td>0.088542</td>\n",
       "      <td>0.101563</td>\n",
       "      <td>0.088542</td>\n",
       "      <td>0.097222</td>\n",
       "      <td>0.061109</td>\n",
       "      <td>1031788800</td>\n",
       "    </tr>\n",
       "    <tr>\n",
       "      <th>1</th>\n",
       "      <td>1986-03-14</td>\n",
       "      <td>0.097222</td>\n",
       "      <td>0.102431</td>\n",
       "      <td>0.097222</td>\n",
       "      <td>0.100694</td>\n",
       "      <td>0.063292</td>\n",
       "      <td>308160000</td>\n",
       "    </tr>\n",
       "    <tr>\n",
       "      <th>2</th>\n",
       "      <td>1986-03-17</td>\n",
       "      <td>0.100694</td>\n",
       "      <td>0.103299</td>\n",
       "      <td>0.100694</td>\n",
       "      <td>0.102431</td>\n",
       "      <td>0.064383</td>\n",
       "      <td>133171200</td>\n",
       "    </tr>\n",
       "    <tr>\n",
       "      <th>3</th>\n",
       "      <td>1986-03-18</td>\n",
       "      <td>0.102431</td>\n",
       "      <td>0.103299</td>\n",
       "      <td>0.098958</td>\n",
       "      <td>0.099826</td>\n",
       "      <td>0.062746</td>\n",
       "      <td>67766400</td>\n",
       "    </tr>\n",
       "    <tr>\n",
       "      <th>4</th>\n",
       "      <td>1986-03-19</td>\n",
       "      <td>0.099826</td>\n",
       "      <td>0.100694</td>\n",
       "      <td>0.097222</td>\n",
       "      <td>0.098090</td>\n",
       "      <td>0.061655</td>\n",
       "      <td>47894400</td>\n",
       "    </tr>\n",
       "    <tr>\n",
       "      <th>...</th>\n",
       "      <td>...</td>\n",
       "      <td>...</td>\n",
       "      <td>...</td>\n",
       "      <td>...</td>\n",
       "      <td>...</td>\n",
       "      <td>...</td>\n",
       "      <td>...</td>\n",
       "    </tr>\n",
       "    <tr>\n",
       "      <th>9123</th>\n",
       "      <td>2022-05-23</td>\n",
       "      <td>255.490005</td>\n",
       "      <td>261.500000</td>\n",
       "      <td>253.429993</td>\n",
       "      <td>260.649994</td>\n",
       "      <td>260.649994</td>\n",
       "      <td>33175400</td>\n",
       "    </tr>\n",
       "    <tr>\n",
       "      <th>9124</th>\n",
       "      <td>2022-05-24</td>\n",
       "      <td>257.890015</td>\n",
       "      <td>261.329987</td>\n",
       "      <td>253.500000</td>\n",
       "      <td>259.619995</td>\n",
       "      <td>259.619995</td>\n",
       "      <td>29043900</td>\n",
       "    </tr>\n",
       "    <tr>\n",
       "      <th>9125</th>\n",
       "      <td>2022-05-25</td>\n",
       "      <td>258.140015</td>\n",
       "      <td>264.579987</td>\n",
       "      <td>257.130005</td>\n",
       "      <td>262.519989</td>\n",
       "      <td>262.519989</td>\n",
       "      <td>28547900</td>\n",
       "    </tr>\n",
       "    <tr>\n",
       "      <th>9126</th>\n",
       "      <td>2022-05-26</td>\n",
       "      <td>262.269989</td>\n",
       "      <td>267.109985</td>\n",
       "      <td>261.429993</td>\n",
       "      <td>265.899994</td>\n",
       "      <td>265.899994</td>\n",
       "      <td>25002100</td>\n",
       "    </tr>\n",
       "    <tr>\n",
       "      <th>9127</th>\n",
       "      <td>2022-05-27</td>\n",
       "      <td>268.480011</td>\n",
       "      <td>273.339996</td>\n",
       "      <td>267.559998</td>\n",
       "      <td>273.239990</td>\n",
       "      <td>273.239990</td>\n",
       "      <td>26889500</td>\n",
       "    </tr>\n",
       "  </tbody>\n",
       "</table>\n",
       "<p>9128 rows × 7 columns</p>\n",
       "</div>"
      ],
      "text/plain": [
       "            Date        Open        High         Low       Close   Adj Close  \\\n",
       "0     1986-03-13    0.088542    0.101563    0.088542    0.097222    0.061109   \n",
       "1     1986-03-14    0.097222    0.102431    0.097222    0.100694    0.063292   \n",
       "2     1986-03-17    0.100694    0.103299    0.100694    0.102431    0.064383   \n",
       "3     1986-03-18    0.102431    0.103299    0.098958    0.099826    0.062746   \n",
       "4     1986-03-19    0.099826    0.100694    0.097222    0.098090    0.061655   \n",
       "...          ...         ...         ...         ...         ...         ...   \n",
       "9123  2022-05-23  255.490005  261.500000  253.429993  260.649994  260.649994   \n",
       "9124  2022-05-24  257.890015  261.329987  253.500000  259.619995  259.619995   \n",
       "9125  2022-05-25  258.140015  264.579987  257.130005  262.519989  262.519989   \n",
       "9126  2022-05-26  262.269989  267.109985  261.429993  265.899994  265.899994   \n",
       "9127  2022-05-27  268.480011  273.339996  267.559998  273.239990  273.239990   \n",
       "\n",
       "          Volume  \n",
       "0     1031788800  \n",
       "1      308160000  \n",
       "2      133171200  \n",
       "3       67766400  \n",
       "4       47894400  \n",
       "...          ...  \n",
       "9123    33175400  \n",
       "9124    29043900  \n",
       "9125    28547900  \n",
       "9126    25002100  \n",
       "9127    26889500  \n",
       "\n",
       "[9128 rows x 7 columns]"
      ]
     },
     "execution_count": 2,
     "metadata": {},
     "output_type": "execute_result"
    }
   ],
   "source": [
    "# Import the data\n",
    "df = pd.read_csv('MSFT.csv')\n",
    "df"
   ]
  },
  {
   "cell_type": "code",
   "execution_count": 3,
   "id": "fbdf39ca",
   "metadata": {},
   "outputs": [
    {
     "data": {
      "text/html": [
       "<div>\n",
       "<style scoped>\n",
       "    .dataframe tbody tr th:only-of-type {\n",
       "        vertical-align: middle;\n",
       "    }\n",
       "\n",
       "    .dataframe tbody tr th {\n",
       "        vertical-align: top;\n",
       "    }\n",
       "\n",
       "    .dataframe thead th {\n",
       "        text-align: right;\n",
       "    }\n",
       "</style>\n",
       "<table border=\"1\" class=\"dataframe\">\n",
       "  <thead>\n",
       "    <tr style=\"text-align: right;\">\n",
       "      <th></th>\n",
       "      <th>Date</th>\n",
       "      <th>Close</th>\n",
       "    </tr>\n",
       "  </thead>\n",
       "  <tbody>\n",
       "    <tr>\n",
       "      <th>0</th>\n",
       "      <td>1986-03-13</td>\n",
       "      <td>0.097222</td>\n",
       "    </tr>\n",
       "    <tr>\n",
       "      <th>1</th>\n",
       "      <td>1986-03-14</td>\n",
       "      <td>0.100694</td>\n",
       "    </tr>\n",
       "    <tr>\n",
       "      <th>2</th>\n",
       "      <td>1986-03-17</td>\n",
       "      <td>0.102431</td>\n",
       "    </tr>\n",
       "    <tr>\n",
       "      <th>3</th>\n",
       "      <td>1986-03-18</td>\n",
       "      <td>0.099826</td>\n",
       "    </tr>\n",
       "    <tr>\n",
       "      <th>4</th>\n",
       "      <td>1986-03-19</td>\n",
       "      <td>0.098090</td>\n",
       "    </tr>\n",
       "    <tr>\n",
       "      <th>...</th>\n",
       "      <td>...</td>\n",
       "      <td>...</td>\n",
       "    </tr>\n",
       "    <tr>\n",
       "      <th>9123</th>\n",
       "      <td>2022-05-23</td>\n",
       "      <td>260.649994</td>\n",
       "    </tr>\n",
       "    <tr>\n",
       "      <th>9124</th>\n",
       "      <td>2022-05-24</td>\n",
       "      <td>259.619995</td>\n",
       "    </tr>\n",
       "    <tr>\n",
       "      <th>9125</th>\n",
       "      <td>2022-05-25</td>\n",
       "      <td>262.519989</td>\n",
       "    </tr>\n",
       "    <tr>\n",
       "      <th>9126</th>\n",
       "      <td>2022-05-26</td>\n",
       "      <td>265.899994</td>\n",
       "    </tr>\n",
       "    <tr>\n",
       "      <th>9127</th>\n",
       "      <td>2022-05-27</td>\n",
       "      <td>273.239990</td>\n",
       "    </tr>\n",
       "  </tbody>\n",
       "</table>\n",
       "<p>9128 rows × 2 columns</p>\n",
       "</div>"
      ],
      "text/plain": [
       "            Date       Close\n",
       "0     1986-03-13    0.097222\n",
       "1     1986-03-14    0.100694\n",
       "2     1986-03-17    0.102431\n",
       "3     1986-03-18    0.099826\n",
       "4     1986-03-19    0.098090\n",
       "...          ...         ...\n",
       "9123  2022-05-23  260.649994\n",
       "9124  2022-05-24  259.619995\n",
       "9125  2022-05-25  262.519989\n",
       "9126  2022-05-26  265.899994\n",
       "9127  2022-05-27  273.239990\n",
       "\n",
       "[9128 rows x 2 columns]"
      ]
     },
     "execution_count": 3,
     "metadata": {},
     "output_type": "execute_result"
    }
   ],
   "source": [
    "df = df[['Date', 'Close']]\n",
    "df"
   ]
  },
  {
   "cell_type": "code",
   "execution_count": 4,
   "id": "4fb18ba3",
   "metadata": {},
   "outputs": [
    {
     "name": "stderr",
     "output_type": "stream",
     "text": [
      "/tmp/ipykernel_62354/1793818658.py:1: SettingWithCopyWarning: \n",
      "A value is trying to be set on a copy of a slice from a DataFrame.\n",
      "Try using .loc[row_indexer,col_indexer] = value instead\n",
      "\n",
      "See the caveats in the documentation: https://pandas.pydata.org/pandas-docs/stable/user_guide/indexing.html#returning-a-view-versus-a-copy\n",
      "  df['Date'] = pd.to_datetime(df['Date'])\n"
     ]
    },
    {
     "data": {
      "text/plain": [
       "0      1986-03-13\n",
       "1      1986-03-14\n",
       "2      1986-03-17\n",
       "3      1986-03-18\n",
       "4      1986-03-19\n",
       "          ...    \n",
       "9123   2022-05-23\n",
       "9124   2022-05-24\n",
       "9125   2022-05-25\n",
       "9126   2022-05-26\n",
       "9127   2022-05-27\n",
       "Name: Date, Length: 9128, dtype: datetime64[ns]"
      ]
     },
     "execution_count": 4,
     "metadata": {},
     "output_type": "execute_result"
    }
   ],
   "source": [
    "df['Date'] = pd.to_datetime(df['Date'])\n",
    "df['Date']"
   ]
  },
  {
   "cell_type": "code",
   "execution_count": 5,
   "id": "7c356277",
   "metadata": {},
   "outputs": [
    {
     "data": {
      "text/html": [
       "<div>\n",
       "<style scoped>\n",
       "    .dataframe tbody tr th:only-of-type {\n",
       "        vertical-align: middle;\n",
       "    }\n",
       "\n",
       "    .dataframe tbody tr th {\n",
       "        vertical-align: top;\n",
       "    }\n",
       "\n",
       "    .dataframe thead th {\n",
       "        text-align: right;\n",
       "    }\n",
       "</style>\n",
       "<table border=\"1\" class=\"dataframe\">\n",
       "  <thead>\n",
       "    <tr style=\"text-align: right;\">\n",
       "      <th></th>\n",
       "      <th>Close</th>\n",
       "    </tr>\n",
       "    <tr>\n",
       "      <th>Date</th>\n",
       "      <th></th>\n",
       "    </tr>\n",
       "  </thead>\n",
       "  <tbody>\n",
       "    <tr>\n",
       "      <th>1986-03-13</th>\n",
       "      <td>0.097222</td>\n",
       "    </tr>\n",
       "    <tr>\n",
       "      <th>1986-03-14</th>\n",
       "      <td>0.100694</td>\n",
       "    </tr>\n",
       "    <tr>\n",
       "      <th>1986-03-17</th>\n",
       "      <td>0.102431</td>\n",
       "    </tr>\n",
       "    <tr>\n",
       "      <th>1986-03-18</th>\n",
       "      <td>0.099826</td>\n",
       "    </tr>\n",
       "    <tr>\n",
       "      <th>1986-03-19</th>\n",
       "      <td>0.098090</td>\n",
       "    </tr>\n",
       "    <tr>\n",
       "      <th>...</th>\n",
       "      <td>...</td>\n",
       "    </tr>\n",
       "    <tr>\n",
       "      <th>2022-05-23</th>\n",
       "      <td>260.649994</td>\n",
       "    </tr>\n",
       "    <tr>\n",
       "      <th>2022-05-24</th>\n",
       "      <td>259.619995</td>\n",
       "    </tr>\n",
       "    <tr>\n",
       "      <th>2022-05-25</th>\n",
       "      <td>262.519989</td>\n",
       "    </tr>\n",
       "    <tr>\n",
       "      <th>2022-05-26</th>\n",
       "      <td>265.899994</td>\n",
       "    </tr>\n",
       "    <tr>\n",
       "      <th>2022-05-27</th>\n",
       "      <td>273.239990</td>\n",
       "    </tr>\n",
       "  </tbody>\n",
       "</table>\n",
       "<p>9128 rows × 1 columns</p>\n",
       "</div>"
      ],
      "text/plain": [
       "                 Close\n",
       "Date                  \n",
       "1986-03-13    0.097222\n",
       "1986-03-14    0.100694\n",
       "1986-03-17    0.102431\n",
       "1986-03-18    0.099826\n",
       "1986-03-19    0.098090\n",
       "...                ...\n",
       "2022-05-23  260.649994\n",
       "2022-05-24  259.619995\n",
       "2022-05-25  262.519989\n",
       "2022-05-26  265.899994\n",
       "2022-05-27  273.239990\n",
       "\n",
       "[9128 rows x 1 columns]"
      ]
     },
     "execution_count": 5,
     "metadata": {},
     "output_type": "execute_result"
    }
   ],
   "source": [
    "df.index = df.pop('Date')\n",
    "df"
   ]
  },
  {
   "cell_type": "code",
   "execution_count": 6,
   "id": "ba4e87fc",
   "metadata": {},
   "outputs": [
    {
     "data": {
      "text/plain": [
       "[<matplotlib.lines.Line2D at 0x7f0a31a8edc0>]"
      ]
     },
     "execution_count": 6,
     "metadata": {},
     "output_type": "execute_result"
    },
    {
     "data": {
      "image/png": "[encoded data removed]",
      "text/plain": [
       "<Figure size 432x288 with 1 Axes>"
      ]
     },
     "metadata": {
      "needs_background": "light"
     },
     "output_type": "display_data"
    }
   ],
   "source": [
    "plt.plot(df.index, df['Close'])"
   ]
  },
  {
   "cell_type": "code",
   "execution_count": 7,
   "id": "87aa1f4e",
   "metadata": {},
   "outputs": [],
   "source": [
    "def df_to_windowed_df(dataframe, first_date_str, last_date_str, n=3):\n",
    "  first_date = pd.to_datetime(first_date_str)\n",
    "  last_date  = pd.to_datetime(last_date_str)\n",
    "\n",
    "  target_date = first_date\n",
    "  \n",
    "  dates = []\n",
    "  X, Y = [], []\n",
    "\n",
    "  last_time = False\n",
    "  while True:\n",
    "    df_subset = dataframe.loc[:target_date].tail(n+1)\n",
    "    \n",
    "    if len(df_subset) != n+1:\n",
    "      print(f'Error: Window of size {n} is too large for date {target_date}')\n",
    "      return\n",
    "\n",
    "    values = df_subset['Close'].to_numpy()\n",
    "    x, y = values[:-1], values[-1]\n",
    "\n",
    "    dates.append(target_date)\n",
    "    X.append(x)\n",
    "    Y.append(y)\n",
    "\n",
    "    next_week = dataframe.loc[target_date:target_date+datetime.timedelta(days=7)]\n",
    "    next_datetime_str = str(next_week.head(2).tail(1).index.values[0])\n",
    "    next_date_str = next_datetime_str.split('T')[0]\n",
    "    year_month_day = next_date_str.split('-')\n",
    "    year, month, day = year_month_day\n",
    "    next_date = datetime.datetime(day=int(day), month=int(month), year=int(year))\n",
    "    \n",
    "    if last_time:\n",
    "      break\n",
    "    \n",
    "    target_date = next_date\n",
    "\n",
    "    if target_date == last_date:\n",
    "      last_time = True\n",
    "    \n",
    "  ret_df = pd.DataFrame({})\n",
    "  ret_df['Target Date'] = dates\n",
    "  \n",
    "  X = np.array(X)\n",
    "  for i in range(0, n):\n",
    "    X[:, i]\n",
    "    ret_df[f'Target-{n-i}'] = X[:, i]\n",
    "  \n",
    "  ret_df['Target'] = Y\n",
    "\n",
    "  return ret_df\n"
   ]
  },
  {
   "cell_type": "code",
   "execution_count": 8,
   "id": "aaf37a2d",
   "metadata": {},
   "outputs": [
    {
     "data": {
      "text/html": [
       "<div>\n",
       "<style scoped>\n",
       "    .dataframe tbody tr th:only-of-type {\n",
       "        vertical-align: middle;\n",
       "    }\n",
       "\n",
       "    .dataframe tbody tr th {\n",
       "        vertical-align: top;\n",
       "    }\n",
       "\n",
       "    .dataframe thead th {\n",
       "        text-align: right;\n",
       "    }\n",
       "</style>\n",
       "<table border=\"1\" class=\"dataframe\">\n",
       "  <thead>\n",
       "    <tr style=\"text-align: right;\">\n",
       "      <th></th>\n",
       "      <th>Target Date</th>\n",
       "      <th>Target-3</th>\n",
       "      <th>Target-2</th>\n",
       "      <th>Target-1</th>\n",
       "      <th>Target</th>\n",
       "    </tr>\n",
       "  </thead>\n",
       "  <tbody>\n",
       "    <tr>\n",
       "      <th>0</th>\n",
       "      <td>2021-05-24</td>\n",
       "      <td>243.119995</td>\n",
       "      <td>246.479996</td>\n",
       "      <td>245.169998</td>\n",
       "      <td>250.779999</td>\n",
       "    </tr>\n",
       "    <tr>\n",
       "      <th>1</th>\n",
       "      <td>2021-05-25</td>\n",
       "      <td>246.479996</td>\n",
       "      <td>245.169998</td>\n",
       "      <td>250.779999</td>\n",
       "      <td>251.720001</td>\n",
       "    </tr>\n",
       "    <tr>\n",
       "      <th>2</th>\n",
       "      <td>2021-05-26</td>\n",
       "      <td>245.169998</td>\n",
       "      <td>250.779999</td>\n",
       "      <td>251.720001</td>\n",
       "      <td>251.490005</td>\n",
       "    </tr>\n",
       "    <tr>\n",
       "      <th>3</th>\n",
       "      <td>2021-05-27</td>\n",
       "      <td>250.779999</td>\n",
       "      <td>251.720001</td>\n",
       "      <td>251.490005</td>\n",
       "      <td>249.309998</td>\n",
       "    </tr>\n",
       "    <tr>\n",
       "      <th>4</th>\n",
       "      <td>2021-05-28</td>\n",
       "      <td>251.720001</td>\n",
       "      <td>251.490005</td>\n",
       "      <td>249.309998</td>\n",
       "      <td>249.679993</td>\n",
       "    </tr>\n",
       "    <tr>\n",
       "      <th>...</th>\n",
       "      <td>...</td>\n",
       "      <td>...</td>\n",
       "      <td>...</td>\n",
       "      <td>...</td>\n",
       "      <td>...</td>\n",
       "    </tr>\n",
       "    <tr>\n",
       "      <th>250</th>\n",
       "      <td>2022-05-19</td>\n",
       "      <td>261.500000</td>\n",
       "      <td>266.820007</td>\n",
       "      <td>254.080002</td>\n",
       "      <td>253.139999</td>\n",
       "    </tr>\n",
       "    <tr>\n",
       "      <th>251</th>\n",
       "      <td>2022-05-20</td>\n",
       "      <td>266.820007</td>\n",
       "      <td>254.080002</td>\n",
       "      <td>253.139999</td>\n",
       "      <td>252.559998</td>\n",
       "    </tr>\n",
       "    <tr>\n",
       "      <th>252</th>\n",
       "      <td>2022-05-23</td>\n",
       "      <td>254.080002</td>\n",
       "      <td>253.139999</td>\n",
       "      <td>252.559998</td>\n",
       "      <td>260.649994</td>\n",
       "    </tr>\n",
       "    <tr>\n",
       "      <th>253</th>\n",
       "      <td>2022-05-24</td>\n",
       "      <td>253.139999</td>\n",
       "      <td>252.559998</td>\n",
       "      <td>260.649994</td>\n",
       "      <td>259.619995</td>\n",
       "    </tr>\n",
       "    <tr>\n",
       "      <th>254</th>\n",
       "      <td>2022-05-25</td>\n",
       "      <td>252.559998</td>\n",
       "      <td>260.649994</td>\n",
       "      <td>259.619995</td>\n",
       "      <td>262.519989</td>\n",
       "    </tr>\n",
       "  </tbody>\n",
       "</table>\n",
       "<p>255 rows × 5 columns</p>\n",
       "</div>"
      ],
      "text/plain": [
       "    Target Date    Target-3    Target-2    Target-1      Target\n",
       "0    2021-05-24  243.119995  246.479996  245.169998  250.779999\n",
       "1    2021-05-25  246.479996  245.169998  250.779999  251.720001\n",
       "2    2021-05-26  245.169998  250.779999  251.720001  251.490005\n",
       "3    2021-05-27  250.779999  251.720001  251.490005  249.309998\n",
       "4    2021-05-28  251.720001  251.490005  249.309998  249.679993\n",
       "..          ...         ...         ...         ...         ...\n",
       "250  2022-05-19  261.500000  266.820007  254.080002  253.139999\n",
       "251  2022-05-20  266.820007  254.080002  253.139999  252.559998\n",
       "252  2022-05-23  254.080002  253.139999  252.559998  260.649994\n",
       "253  2022-05-24  253.139999  252.559998  260.649994  259.619995\n",
       "254  2022-05-25  252.559998  260.649994  259.619995  262.519989\n",
       "\n",
       "[255 rows x 5 columns]"
      ]
     },
     "execution_count": 8,
     "metadata": {},
     "output_type": "execute_result"
    }
   ],
   "source": [
    "# Start day second time around: '2021-03-25'\n",
    "windowed_df = df_to_windowed_df(df, \n",
    "                                '2021-05-24', \n",
    "                                '2022-05-25', \n",
    "                                n=3)\n",
    "windowed_df"
   ]
  },
  {
   "cell_type": "code",
   "execution_count": 9,
   "id": "1e2898a8",
   "metadata": {},
   "outputs": [],
   "source": [
    "def windowed_df_to_date_X_y(windowed_dataframe):\n",
    "    df_as_np = windowed_dataframe.to_numpy()\n",
    "    dates = df_as_np[: , 0]\n",
    "    middle_matrix = df_as_np[: , 1:-1]\n",
    "    X = middle_matrix.reshape((len(dates), middle_matrix.shape[1], 1))\n",
    "    y = df_as_np[: , -1]\n",
    "    \n",
    "    return dates, X.astype(np.float32), y.astype(np.float32)"
   ]
  },
  {
   "cell_type": "code",
   "execution_count": 10,
   "id": "2b311e09",
   "metadata": {},
   "outputs": [
    {
     "data": {
      "text/plain": [
       "((255,), (255, 3, 1), (255,))"
      ]
     },
     "execution_count": 10,
     "metadata": {},
     "output_type": "execute_result"
    }
   ],
   "source": [
    "dates , X ,y = windowed_df_to_date_X_y(windowed_df)\n",
    "dates.shape , X.shape , y.shape"
   ]
  },
  {
   "cell_type": "markdown",
   "id": "0a2956e2",
   "metadata": {},
   "source": [
    "## Split the data "
   ]
  },
  {
   "cell_type": "code",
   "execution_count": 11,
   "id": "2d665108",
   "metadata": {},
   "outputs": [],
   "source": [
    "q_80 = int(len(dates)*.8)\n",
    "q_90 = int(len(dates)*.9)\n",
    "dates_train , X_train, y_train = dates[:q_80], X[:q_80], y[:q_80]\n",
    "dates_val , X_val, y_val = dates[q_80:q_90], X[q_80:q_90], y[q_80:q_90]\n",
    "dates_test , X_test, y_test = dates[q_90:], X[q_90:], y[q_90:]"
   ]
  },
  {
   "cell_type": "code",
   "execution_count": 12,
   "id": "d32276ab",
   "metadata": {},
   "outputs": [
    {
     "data": {
      "text/plain": [
       "<matplotlib.legend.Legend at 0x7f0a316c7fa0>"
      ]
     },
     "execution_count": 12,
     "metadata": {},
     "output_type": "execute_result"
    },
    {
     "data": {
      "image/png": "[encoded data removed]",
      "text/plain": [
       "<Figure size 432x288 with 1 Axes>"
      ]
     },
     "metadata": {
      "needs_background": "light"
     },
     "output_type": "display_data"
    }
   ],
   "source": [
    "plt.plot(dates_train, y_train )\n",
    "plt.plot(dates_val, y_val )\n",
    "plt.plot(dates_test, y_test )\n",
    "plt.legend(['Train', 'Validation' , 'Test'])"
   ]
  },
  {
   "cell_type": "code",
   "execution_count": 13,
   "id": "9d68651b",
   "metadata": {},
   "outputs": [
    {
     "name": "stderr",
     "output_type": "stream",
     "text": [
      "2022-06-06 02:42:29.371450: W tensorflow/stream_executor/platform/default/dso_loader.cc:64] Could not load dynamic library 'libcuda.so.1'; dlerror: libcuda.so.1: cannot open shared object file: No such file or directory\n",
      "2022-06-06 02:42:29.371827: W tensorflow/stream_executor/cuda/cuda_driver.cc:269] failed call to cuInit: UNKNOWN ERROR (303)\n",
      "2022-06-06 02:42:29.372067: I tensorflow/stream_executor/cuda/cuda_diagnostics.cc:156] kernel driver does not appear to be running on this host (ahmed-832): /proc/driver/nvidia/version does not exist\n",
      "2022-06-06 02:42:29.373207: I tensorflow/core/platform/cpu_feature_guard.cc:142] This TensorFlow binary is optimized with oneAPI Deep Neural Network Library (oneDNN) to use the following CPU instructions in performance-critical operations:  AVX2 FMA\n",
      "To enable them in other operations, rebuild TensorFlow with the appropriate compiler flags.\n"
     ]
    }
   ],
   "source": [
    "model=Sequential([layers.Input((3,1)),\n",
    "                 layers.LSTM(64),\n",
    "                 layers.Dense(32, activation='relu'),\n",
    "                 layers.Dense(32, activation='relu'),\n",
    "                 layers.Dense(1)])"
   ]
  },
  {
   "cell_type": "code",
   "execution_count": 14,
   "id": "4fd540b6",
   "metadata": {},
   "outputs": [],
   "source": [
    "model.compile(loss = 'mse',\n",
    "              optimizer = Adam(learning_rate=0.001),\n",
    "              metrics = ['mean_absolute_error'])"
   ]
  },
  {
   "cell_type": "code",
   "execution_count": 15,
   "id": "af847008",
   "metadata": {},
   "outputs": [
    {
     "name": "stdout",
     "output_type": "stream",
     "text": [
      "Model: \"sequential\"\n",
      "_________________________________________________________________\n",
      "Layer (type)                 Output Shape              Param #   \n",
      "=================================================================\n",
      "lstm (LSTM)                  (None, 64)                16896     \n",
      "_________________________________________________________________\n",
      "dense (Dense)                (None, 32)                2080      \n",
      "_________________________________________________________________\n",
      "dense_1 (Dense)              (None, 32)                1056      \n",
      "_________________________________________________________________\n",
      "dense_2 (Dense)              (None, 1)                 33        \n",
      "=================================================================\n",
      "Total params: 20,065\n",
      "Trainable params: 20,065\n",
      "Non-trainable params: 0\n",
      "_________________________________________________________________\n"
     ]
    }
   ],
   "source": [
    "model.summary()"
   ]
  },
  {
   "cell_type": "code",
   "execution_count": 16,
   "id": "aef2f402",
   "metadata": {},
   "outputs": [
    {
     "name": "stderr",
     "output_type": "stream",
     "text": [
      "2022-06-06 02:42:31.028239: I tensorflow/compiler/mlir/mlir_graph_optimization_pass.cc:185] None of the MLIR Optimization Passes are enabled (registered 2)\n"
     ]
    },
    {
     "name": "stdout",
     "output_type": "stream",
     "text": [
      "Epoch 1/100\n",
      "7/7 [==============================] - 5s 85ms/step - loss: 90086.7266 - mean_absolute_error: 299.1323 - val_loss: 89246.6328 - val_mean_absolute_error: 298.5421\n",
      "Epoch 2/100\n",
      "7/7 [==============================] - 0s 10ms/step - loss: 89932.6406 - mean_absolute_error: 298.8748 - val_loss: 89105.2031 - val_mean_absolute_error: 298.3051\n",
      "Epoch 3/100\n",
      "7/7 [==============================] - 0s 9ms/step - loss: 89776.5312 - mean_absolute_error: 298.6134 - val_loss: 88906.9922 - val_mean_absolute_error: 297.9728\n",
      "Epoch 4/100\n",
      "7/7 [==============================] - 0s 14ms/step - loss: 89538.9688 - mean_absolute_error: 298.2159 - val_loss: 88635.4062 - val_mean_absolute_error: 297.5167\n",
      "Epoch 5/100\n",
      "7/7 [==============================] - 0s 9ms/step - loss: 89271.7969 - mean_absolute_error: 297.7664 - val_loss: 88367.7734 - val_mean_absolute_error: 297.0666\n",
      "Epoch 6/100\n",
      "7/7 [==============================] - 0s 9ms/step - loss: 89002.5781 - mean_absolute_error: 297.3159 - val_loss: 88089.8594 - val_mean_absolute_error: 296.5984\n",
      "Epoch 7/100\n",
      "7/7 [==============================] - 0s 7ms/step - loss: 88700.7969 - mean_absolute_error: 296.8073 - val_loss: 87741.7500 - val_mean_absolute_error: 296.0109\n",
      "Epoch 8/100\n",
      "7/7 [==============================] - 0s 9ms/step - loss: 88307.8438 - mean_absolute_error: 296.1434 - val_loss: 87267.6484 - val_mean_absolute_error: 295.2090\n",
      "Epoch 9/100\n",
      "7/7 [==============================] - 0s 9ms/step - loss: 87772.5703 - mean_absolute_error: 295.2375 - val_loss: 86631.6328 - val_mean_absolute_error: 294.1298\n",
      "Epoch 10/100\n",
      "7/7 [==============================] - 0s 9ms/step - loss: 87066.1562 - mean_absolute_error: 294.0441 - val_loss: 85840.0078 - val_mean_absolute_error: 292.7810\n",
      "Epoch 11/100\n",
      "7/7 [==============================] - 0s 9ms/step - loss: 86207.0391 - mean_absolute_error: 292.5715 - val_loss: 84761.1172 - val_mean_absolute_error: 290.9325\n",
      "Epoch 12/100\n",
      "7/7 [==============================] - 0s 9ms/step - loss: 84958.3125 - mean_absolute_error: 290.4402 - val_loss: 83382.9766 - val_mean_absolute_error: 288.5547\n",
      "Epoch 13/100\n",
      "7/7 [==============================] - 0s 10ms/step - loss: 83582.4766 - mean_absolute_error: 288.0583 - val_loss: 81960.2500 - val_mean_absolute_error: 286.0785\n",
      "Epoch 14/100\n",
      "7/7 [==============================] - 0s 9ms/step - loss: 81992.6797 - mean_absolute_error: 285.2794 - val_loss: 80036.8359 - val_mean_absolute_error: 282.6970\n",
      "Epoch 15/100\n",
      "7/7 [==============================] - 0s 8ms/step - loss: 79969.3594 - mean_absolute_error: 281.7072 - val_loss: 77851.1641 - val_mean_absolute_error: 278.8040\n",
      "Epoch 16/100\n",
      "7/7 [==============================] - 0s 8ms/step - loss: 77547.6875 - mean_absolute_error: 277.3673 - val_loss: 75203.3984 - val_mean_absolute_error: 274.0149\n",
      "Epoch 17/100\n",
      "7/7 [==============================] - 0s 8ms/step - loss: 74905.7656 - mean_absolute_error: 272.5670 - val_loss: 72507.1797 - val_mean_absolute_error: 269.0501\n",
      "Epoch 18/100\n",
      "7/7 [==============================] - 0s 9ms/step - loss: 72100.4375 - mean_absolute_error: 267.3636 - val_loss: 69526.2578 - val_mean_absolute_error: 263.4520\n",
      "Epoch 19/100\n",
      "7/7 [==============================] - 0s 10ms/step - loss: 68956.7031 - mean_absolute_error: 261.4385 - val_loss: 66060.2656 - val_mean_absolute_error: 256.7894\n",
      "Epoch 20/100\n",
      "7/7 [==============================] - 0s 11ms/step - loss: 65337.8047 - mean_absolute_error: 254.4423 - val_loss: 62358.6406 - val_mean_absolute_error: 249.4780\n",
      "Epoch 21/100\n",
      "7/7 [==============================] - 0s 14ms/step - loss: 61515.7930 - mean_absolute_error: 246.8049 - val_loss: 58192.2539 - val_mean_absolute_error: 240.9830\n",
      "Epoch 22/100\n",
      "7/7 [==============================] - 0s 8ms/step - loss: 57152.8008 - mean_absolute_error: 237.8011 - val_loss: 53717.2109 - val_mean_absolute_error: 231.5116\n",
      "Epoch 23/100\n",
      "7/7 [==============================] - 0s 9ms/step - loss: 52564.0312 - mean_absolute_error: 227.9398 - val_loss: 49002.1641 - val_mean_absolute_error: 221.0941\n",
      "Epoch 24/100\n",
      "7/7 [==============================] - 0s 9ms/step - loss: 47740.9883 - mean_absolute_error: 217.0590 - val_loss: 43910.4453 - val_mean_absolute_error: 209.2612\n",
      "Epoch 25/100\n",
      "7/7 [==============================] - 0s 10ms/step - loss: 42342.1367 - mean_absolute_error: 204.3153 - val_loss: 38497.9844 - val_mean_absolute_error: 195.9050\n",
      "Epoch 26/100\n",
      "7/7 [==============================] - 0s 9ms/step - loss: 37248.0039 - mean_absolute_error: 191.4300 - val_loss: 33539.9609 - val_mean_absolute_error: 182.8118\n",
      "Epoch 27/100\n",
      "7/7 [==============================] - 0s 16ms/step - loss: 32096.0293 - mean_absolute_error: 177.3973 - val_loss: 28222.6582 - val_mean_absolute_error: 167.6411\n",
      "Epoch 28/100\n",
      "7/7 [==============================] - 0s 12ms/step - loss: 26989.3809 - mean_absolute_error: 162.4610 - val_loss: 23544.3906 - val_mean_absolute_error: 153.0528\n",
      "Epoch 29/100\n",
      "7/7 [==============================] - 0s 14ms/step - loss: 22421.8633 - mean_absolute_error: 147.6843 - val_loss: 19153.8828 - val_mean_absolute_error: 137.9657\n",
      "Epoch 30/100\n",
      "7/7 [==============================] - 0s 11ms/step - loss: 18116.9395 - mean_absolute_error: 132.2431 - val_loss: 14908.0322 - val_mean_absolute_error: 121.6083\n",
      "Epoch 31/100\n",
      "7/7 [==============================] - 0s 9ms/step - loss: 14089.5566 - mean_absolute_error: 115.9822 - val_loss: 11377.5762 - val_mean_absolute_error: 106.1054\n",
      "Epoch 32/100\n",
      "7/7 [==============================] - 0s 9ms/step - loss: 10749.7803 - mean_absolute_error: 100.6736 - val_loss: 8404.6260 - val_mean_absolute_error: 91.0242\n",
      "Epoch 33/100\n",
      "7/7 [==============================] - 0s 9ms/step - loss: 7985.2686 - mean_absolute_error: 85.7358 - val_loss: 5960.8369 - val_mean_absolute_error: 76.4304\n",
      "Epoch 34/100\n",
      "7/7 [==============================] - 0s 9ms/step - loss: 5727.8970 - mean_absolute_error: 71.4972 - val_loss: 4060.2781 - val_mean_absolute_error: 62.7773\n",
      "Epoch 35/100\n",
      "7/7 [==============================] - 0s 12ms/step - loss: 3993.4775 - mean_absolute_error: 58.1136 - val_loss: 2546.3440 - val_mean_absolute_error: 49.2600\n",
      "Epoch 36/100\n",
      "7/7 [==============================] - 0s 12ms/step - loss: 2636.7815 - mean_absolute_error: 45.3880 - val_loss: 1542.3867 - val_mean_absolute_error: 37.7248\n",
      "Epoch 37/100\n",
      "7/7 [==============================] - 0s 13ms/step - loss: 1790.3263 - mean_absolute_error: 36.4363 - val_loss: 902.9708 - val_mean_absolute_error: 27.9954\n",
      "Epoch 38/100\n",
      "7/7 [==============================] - 0s 12ms/step - loss: 1238.9229 - mean_absolute_error: 29.3759 - val_loss: 521.0674 - val_mean_absolute_error: 20.0459\n",
      "Epoch 39/100\n",
      "7/7 [==============================] - 0s 9ms/step - loss: 927.8245 - mean_absolute_error: 24.7230 - val_loss: 303.8904 - val_mean_absolute_error: 14.6434\n",
      "Epoch 40/100\n",
      "7/7 [==============================] - 0s 12ms/step - loss: 752.4481 - mean_absolute_error: 21.6549 - val_loss: 192.7954 - val_mean_absolute_error: 12.0747\n",
      "Epoch 41/100\n",
      "7/7 [==============================] - 0s 15ms/step - loss: 667.8117 - mean_absolute_error: 20.3938 - val_loss: 145.2928 - val_mean_absolute_error: 10.5471\n",
      "Epoch 42/100\n",
      "7/7 [==============================] - 0s 13ms/step - loss: 629.0075 - mean_absolute_error: 19.6426 - val_loss: 126.9659 - val_mean_absolute_error: 9.7165\n",
      "Epoch 43/100\n",
      "7/7 [==============================] - 0s 8ms/step - loss: 615.0941 - mean_absolute_error: 19.4685 - val_loss: 120.6942 - val_mean_absolute_error: 9.3252\n",
      "Epoch 44/100\n",
      "7/7 [==============================] - 0s 10ms/step - loss: 608.3327 - mean_absolute_error: 19.3959 - val_loss: 119.3258 - val_mean_absolute_error: 9.1460\n",
      "Epoch 45/100\n",
      "7/7 [==============================] - 0s 10ms/step - loss: 606.2403 - mean_absolute_error: 19.3851 - val_loss: 119.2688 - val_mean_absolute_error: 9.0416\n",
      "Epoch 46/100\n",
      "7/7 [==============================] - 0s 13ms/step - loss: 606.1364 - mean_absolute_error: 19.3986 - val_loss: 119.5409 - val_mean_absolute_error: 8.9856\n",
      "Epoch 47/100\n",
      "7/7 [==============================] - 0s 9ms/step - loss: 606.4595 - mean_absolute_error: 19.4059 - val_loss: 119.6797 - val_mean_absolute_error: 8.9721\n",
      "Epoch 48/100\n"
     ]
    },
    {
     "name": "stdout",
     "output_type": "stream",
     "text": [
      "7/7 [==============================] - 0s 10ms/step - loss: 606.5375 - mean_absolute_error: 19.4104 - val_loss: 119.7280 - val_mean_absolute_error: 8.9684\n",
      "Epoch 49/100\n",
      "7/7 [==============================] - 0s 10ms/step - loss: 606.7696 - mean_absolute_error: 19.4138 - val_loss: 119.8666 - val_mean_absolute_error: 8.9717\n",
      "Epoch 50/100\n",
      "7/7 [==============================] - 0s 13ms/step - loss: 606.5174 - mean_absolute_error: 19.4105 - val_loss: 119.6333 - val_mean_absolute_error: 8.9763\n",
      "Epoch 51/100\n",
      "7/7 [==============================] - 0s 13ms/step - loss: 606.4920 - mean_absolute_error: 19.4088 - val_loss: 119.4607 - val_mean_absolute_error: 8.9947\n",
      "Epoch 52/100\n",
      "7/7 [==============================] - 0s 14ms/step - loss: 606.6047 - mean_absolute_error: 19.4087 - val_loss: 119.3403 - val_mean_absolute_error: 9.0149\n",
      "Epoch 53/100\n",
      "7/7 [==============================] - 0s 18ms/step - loss: 606.4244 - mean_absolute_error: 19.4018 - val_loss: 119.4343 - val_mean_absolute_error: 8.9980\n",
      "Epoch 54/100\n",
      "7/7 [==============================] - 0s 13ms/step - loss: 606.6747 - mean_absolute_error: 19.4067 - val_loss: 119.6531 - val_mean_absolute_error: 8.9744\n",
      "Epoch 55/100\n",
      "7/7 [==============================] - 0s 10ms/step - loss: 606.5213 - mean_absolute_error: 19.4091 - val_loss: 119.6618 - val_mean_absolute_error: 8.9735\n",
      "Epoch 56/100\n",
      "7/7 [==============================] - 0s 8ms/step - loss: 607.0960 - mean_absolute_error: 19.4214 - val_loss: 119.6701 - val_mean_absolute_error: 8.9728\n",
      "Epoch 57/100\n",
      "7/7 [==============================] - 0s 9ms/step - loss: 606.2883 - mean_absolute_error: 19.4008 - val_loss: 119.3577 - val_mean_absolute_error: 9.0095\n",
      "Epoch 58/100\n",
      "7/7 [==============================] - 0s 12ms/step - loss: 606.5884 - mean_absolute_error: 19.4075 - val_loss: 119.2413 - val_mean_absolute_error: 9.0560\n",
      "Epoch 59/100\n",
      "7/7 [==============================] - 0s 10ms/step - loss: 606.5598 - mean_absolute_error: 19.3987 - val_loss: 119.2354 - val_mean_absolute_error: 9.0606\n",
      "Epoch 60/100\n",
      "7/7 [==============================] - 0s 11ms/step - loss: 606.6382 - mean_absolute_error: 19.3991 - val_loss: 119.3331 - val_mean_absolute_error: 9.0164\n",
      "Epoch 61/100\n",
      "7/7 [==============================] - 0s 10ms/step - loss: 606.3791 - mean_absolute_error: 19.4010 - val_loss: 119.4122 - val_mean_absolute_error: 9.0006\n",
      "Epoch 62/100\n",
      "7/7 [==============================] - 0s 9ms/step - loss: 606.4272 - mean_absolute_error: 19.4039 - val_loss: 119.4760 - val_mean_absolute_error: 8.9923\n",
      "Epoch 63/100\n",
      "7/7 [==============================] - 0s 11ms/step - loss: 606.4711 - mean_absolute_error: 19.4101 - val_loss: 119.4691 - val_mean_absolute_error: 8.9784\n",
      "Epoch 64/100\n",
      "7/7 [==============================] - 0s 10ms/step - loss: 606.6201 - mean_absolute_error: 19.4040 - val_loss: 119.1342 - val_mean_absolute_error: 9.0215\n",
      "Epoch 65/100\n",
      "7/7 [==============================] - 0s 8ms/step - loss: 606.0186 - mean_absolute_error: 19.3986 - val_loss: 119.3155 - val_mean_absolute_error: 8.9991\n",
      "Epoch 66/100\n",
      "7/7 [==============================] - 0s 11ms/step - loss: 605.6879 - mean_absolute_error: 19.3912 - val_loss: 119.0492 - val_mean_absolute_error: 9.0256\n",
      "Epoch 67/100\n",
      "7/7 [==============================] - 0s 8ms/step - loss: 601.8835 - mean_absolute_error: 19.2932 - val_loss: 119.0079 - val_mean_absolute_error: 9.2902\n",
      "Epoch 68/100\n",
      "7/7 [==============================] - 0s 10ms/step - loss: 595.6579 - mean_absolute_error: 19.2312 - val_loss: 117.2008 - val_mean_absolute_error: 9.0655\n",
      "Epoch 69/100\n",
      "7/7 [==============================] - 0s 11ms/step - loss: 593.8041 - mean_absolute_error: 19.1649 - val_loss: 117.3198 - val_mean_absolute_error: 9.1935\n",
      "Epoch 70/100\n",
      "7/7 [==============================] - 0s 11ms/step - loss: 587.2890 - mean_absolute_error: 19.0530 - val_loss: 115.8181 - val_mean_absolute_error: 9.1310\n",
      "Epoch 71/100\n",
      "7/7 [==============================] - 0s 8ms/step - loss: 579.5331 - mean_absolute_error: 18.9252 - val_loss: 114.4633 - val_mean_absolute_error: 9.0639\n",
      "Epoch 72/100\n",
      "7/7 [==============================] - 0s 10ms/step - loss: 572.9567 - mean_absolute_error: 18.7818 - val_loss: 111.7636 - val_mean_absolute_error: 8.8663\n",
      "Epoch 73/100\n",
      "7/7 [==============================] - 0s 10ms/step - loss: 566.2551 - mean_absolute_error: 18.7486 - val_loss: 116.8809 - val_mean_absolute_error: 9.2712\n",
      "Epoch 74/100\n",
      "7/7 [==============================] - 0s 11ms/step - loss: 554.9423 - mean_absolute_error: 18.4932 - val_loss: 108.8196 - val_mean_absolute_error: 8.7143\n",
      "Epoch 75/100\n",
      "7/7 [==============================] - 0s 10ms/step - loss: 548.3342 - mean_absolute_error: 18.4547 - val_loss: 112.0017 - val_mean_absolute_error: 9.0347\n",
      "Epoch 76/100\n",
      "7/7 [==============================] - 0s 13ms/step - loss: 538.0739 - mean_absolute_error: 18.2086 - val_loss: 105.3209 - val_mean_absolute_error: 8.4592\n",
      "Epoch 77/100\n",
      "7/7 [==============================] - 0s 15ms/step - loss: 527.2012 - mean_absolute_error: 18.0461 - val_loss: 107.5530 - val_mean_absolute_error: 8.5017\n",
      "Epoch 78/100\n",
      "7/7 [==============================] - 0s 14ms/step - loss: 527.9863 - mean_absolute_error: 18.2727 - val_loss: 109.1675 - val_mean_absolute_error: 8.9114\n",
      "Epoch 79/100\n",
      "7/7 [==============================] - 0s 12ms/step - loss: 506.6383 - mean_absolute_error: 17.7024 - val_loss: 101.2999 - val_mean_absolute_error: 8.4996\n",
      "Epoch 80/100\n",
      "7/7 [==============================] - 0s 19ms/step - loss: 491.7737 - mean_absolute_error: 17.4473 - val_loss: 105.3605 - val_mean_absolute_error: 8.7461\n",
      "Epoch 81/100\n",
      "7/7 [==============================] - 0s 17ms/step - loss: 478.9742 - mean_absolute_error: 17.1942 - val_loss: 94.9751 - val_mean_absolute_error: 8.0946\n",
      "Epoch 82/100\n",
      "7/7 [==============================] - 0s 13ms/step - loss: 470.8220 - mean_absolute_error: 17.0910 - val_loss: 96.2253 - val_mean_absolute_error: 8.0711\n",
      "Epoch 83/100\n",
      "7/7 [==============================] - 0s 16ms/step - loss: 474.6617 - mean_absolute_error: 17.2822 - val_loss: 105.1731 - val_mean_absolute_error: 8.8347\n",
      "Epoch 84/100\n",
      "7/7 [==============================] - 0s 10ms/step - loss: 452.2668 - mean_absolute_error: 16.6883 - val_loss: 90.2887 - val_mean_absolute_error: 7.9367\n",
      "Epoch 85/100\n",
      "7/7 [==============================] - 0s 10ms/step - loss: 428.5172 - mean_absolute_error: 16.2827 - val_loss: 91.7736 - val_mean_absolute_error: 8.0903\n",
      "Epoch 86/100\n",
      "7/7 [==============================] - 0s 9ms/step - loss: 414.2296 - mean_absolute_error: 15.9631 - val_loss: 81.1394 - val_mean_absolute_error: 7.4483\n",
      "Epoch 87/100\n",
      "7/7 [==============================] - 0s 10ms/step - loss: 389.8397 - mean_absolute_error: 15.5681 - val_loss: 80.7010 - val_mean_absolute_error: 7.4594\n",
      "Epoch 88/100\n",
      "7/7 [==============================] - 0s 9ms/step - loss: 365.9574 - mean_absolute_error: 14.9982 - val_loss: 82.7690 - val_mean_absolute_error: 7.6809\n",
      "Epoch 89/100\n",
      "7/7 [==============================] - 0s 12ms/step - loss: 355.8305 - mean_absolute_error: 14.6900 - val_loss: 72.5623 - val_mean_absolute_error: 7.0626\n",
      "Epoch 90/100\n",
      "7/7 [==============================] - 0s 11ms/step - loss: 331.6337 - mean_absolute_error: 14.3919 - val_loss: 87.1336 - val_mean_absolute_error: 7.9223\n",
      "Epoch 91/100\n",
      "7/7 [==============================] - 0s 14ms/step - loss: 309.8615 - mean_absolute_error: 13.8242 - val_loss: 76.8844 - val_mean_absolute_error: 7.3559\n",
      "Epoch 92/100\n",
      "7/7 [==============================] - 0s 11ms/step - loss: 303.3586 - mean_absolute_error: 13.6683 - val_loss: 63.3399 - val_mean_absolute_error: 6.4588\n",
      "Epoch 93/100\n",
      "7/7 [==============================] - 0s 8ms/step - loss: 294.6550 - mean_absolute_error: 13.6166 - val_loss: 88.8256 - val_mean_absolute_error: 7.4390\n",
      "Epoch 94/100\n",
      "7/7 [==============================] - 0s 10ms/step - loss: 262.7545 - mean_absolute_error: 12.9667 - val_loss: 57.0770 - val_mean_absolute_error: 6.1100\n",
      "Epoch 95/100\n",
      "7/7 [==============================] - 0s 12ms/step - loss: 260.4291 - mean_absolute_error: 12.7776 - val_loss: 57.8390 - val_mean_absolute_error: 6.2956\n",
      "Epoch 96/100\n",
      "7/7 [==============================] - 0s 12ms/step - loss: 240.6281 - mean_absolute_error: 12.4367 - val_loss: 76.2316 - val_mean_absolute_error: 7.4383\n"
     ]
    },
    {
     "name": "stdout",
     "output_type": "stream",
     "text": [
      "Epoch 97/100\n",
      "7/7 [==============================] - 0s 10ms/step - loss: 237.8596 - mean_absolute_error: 12.3040 - val_loss: 87.0000 - val_mean_absolute_error: 8.1126\n",
      "Epoch 98/100\n",
      "7/7 [==============================] - 0s 12ms/step - loss: 230.8520 - mean_absolute_error: 12.1158 - val_loss: 56.3104 - val_mean_absolute_error: 6.2973\n",
      "Epoch 99/100\n",
      "7/7 [==============================] - 0s 9ms/step - loss: 202.0324 - mean_absolute_error: 11.1931 - val_loss: 63.4783 - val_mean_absolute_error: 6.8183\n",
      "Epoch 100/100\n",
      "7/7 [==============================] - 0s 11ms/step - loss: 197.8562 - mean_absolute_error: 11.2943 - val_loss: 69.4987 - val_mean_absolute_error: 7.3197\n"
     ]
    },
    {
     "data": {
      "text/plain": [
       "<keras.callbacks.History at 0x7f0a313ba5b0>"
      ]
     },
     "execution_count": 16,
     "metadata": {},
     "output_type": "execute_result"
    }
   ],
   "source": [
    "model.fit(X_train, y_train, validation_data=(X_val, y_val), epochs =100)"
   ]
  },
  {
   "cell_type": "code",
   "execution_count": 17,
   "id": "48b4671f",
   "metadata": {},
   "outputs": [],
   "source": [
    "train_predictions = model.predict(X_train).flatten()"
   ]
  },
  {
   "cell_type": "code",
   "execution_count": 18,
   "id": "063487e5",
   "metadata": {},
   "outputs": [
    {
     "data": {
      "text/plain": [
       "<matplotlib.legend.Legend at 0x7f0a1671ebe0>"
      ]
     },
     "execution_count": 18,
     "metadata": {},
     "output_type": "execute_result"
    },
    {
     "data": {
      "image/png": "[encoded data removed]",
      "text/plain": [
       "<Figure size 432x288 with 1 Axes>"
      ]
     },
     "metadata": {
      "needs_background": "light"
     },
     "output_type": "display_data"
    }
   ],
   "source": [
    "plt.plot(dates_train, train_predictions)\n",
    "plt.plot(dates_train, y_train)\n",
    "plt.legend(['Training Predictions', 'Training Observations'])"
   ]
  },
  {
   "cell_type": "code",
   "execution_count": 19,
   "id": "1d7d9a64",
   "metadata": {},
   "outputs": [
    {
     "data": {
      "text/plain": [
       "<matplotlib.legend.Legend at 0x7f0a15ed9b50>"
      ]
     },
     "execution_count": 19,
     "metadata": {},
     "output_type": "execute_result"
    },
    {
     "data": {
      "image/png": "[encoded data removed]",
      "text/plain": [
       "<Figure size 432x288 with 1 Axes>"
      ]
     },
     "metadata": {
      "needs_background": "light"
     },
     "output_type": "display_data"
    }
   ],
   "source": [
    "val_predictions = model.predict(X_val).flatten()\n",
    "\n",
    "plt.plot(dates_val, val_predictions)\n",
    "plt.plot(dates_val, y_val)\n",
    "plt.legend(['Validation Predictions', 'Validation Observations'])"
   ]
  },
  {
   "cell_type": "code",
   "execution_count": 20,
   "id": "17f6b427",
   "metadata": {},
   "outputs": [
    {
     "data": {
      "text/plain": [
       "<matplotlib.legend.Legend at 0x7f0a15eb4d30>"
      ]
     },
     "execution_count": 20,
     "metadata": {},
     "output_type": "execute_result"
    },
    {
     "data": {
      "image/png": "[encoded data removed]",
      "text/plain": [
       "<Figure size 432x288 with 1 Axes>"
      ]
     },
     "metadata": {
      "needs_background": "light"
     },
     "output_type": "display_data"
    }
   ],
   "source": [
    "test_predictions = model.predict(X_test).flatten()\n",
    "\n",
    "plt.plot(dates_test, test_predictions)\n",
    "plt.plot(dates_test, y_test)\n",
    "plt.legend(['Testing Predictions', 'Testing Observations'])"
   ]
  },
  {
   "cell_type": "code",
   "execution_count": 21,
   "id": "677e3061",
   "metadata": {},
   "outputs": [
    {
     "data": {
      "text/plain": [
       "<matplotlib.legend.Legend at 0x7f0a15dd74f0>"
      ]
     },
     "execution_count": 21,
     "metadata": {},
     "output_type": "execute_result"
    },
    {
     "data": {
      "image/png": "[encoded data removed]",
      "text/plain": [
       "<Figure size 432x288 with 1 Axes>"
      ]
     },
     "metadata": {
      "needs_background": "light"
     },
     "output_type": "display_data"
    }
   ],
   "source": [
    "plt.plot(dates_train, train_predictions)\n",
    "plt.plot(dates_train, y_train)\n",
    "plt.plot(dates_val, val_predictions)\n",
    "plt.plot(dates_val, y_val)\n",
    "plt.plot(dates_test, test_predictions)\n",
    "plt.plot(dates_test, y_test)\n",
    "plt.legend(['Training Predictions', \n",
    "            'Training Observations',\n",
    "            'Validation Predictions', \n",
    "            'Validation Observations',\n",
    "            'Testing Predictions', \n",
    "            'Testing Observations'])"
   ]
  },
  {
   "cell_type": "code",
   "execution_count": null,
   "id": "038a8fc9",
   "metadata": {},
   "outputs": [],
   "source": []
  }
 ],
 "metadata": {
  "kernelspec": {
   "display_name": "Python 3 (ipykernel)",
   "language": "python",
   "name": "python3"
  },
  "language_info": {
   "codemirror_mode": {
    "name": "ipython",
    "version": 3
   },
   "file_extension": ".py",
   "mimetype": "text/x-python",
   "name": "python",
   "nbconvert_exporter": "python",
   "pygments_lexer": "ipython3",
   "version": "3.8.11"
  }
 },
 "nbformat": 4,
 "nbformat_minor": 5
}
